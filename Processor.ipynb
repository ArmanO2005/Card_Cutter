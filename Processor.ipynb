{
 "cells": [
  {
   "cell_type": "markdown",
   "id": "46df22de",
   "metadata": {},
   "source": [
    "Ideas:\n",
    "train hugging face model on debate corpus\n",
    "\n",
    "tag <--> concatted underlined portion of a paragraph in the card"
   ]
  },
  {
   "cell_type": "code",
   "execution_count": 1,
   "id": "8d54d89d",
   "metadata": {},
   "outputs": [
    {
     "name": "stdout",
     "output_type": "stream",
     "text": [
      "\u001b[38;5;2m✔ Download and installation successful\u001b[0m\n",
      "You can now load the package via spacy.load('en_core_web_sm')\n",
      "\u001b[38;5;3m⚠ Restart to reload dependencies\u001b[0m\n",
      "If you are in a Jupyter or Colab notebook, you may need to restart Python in\n",
      "order to load all the package's dependencies. You can do this by selecting the\n",
      "'Restart kernel' or 'Restart runtime' option.\n"
     ]
    }
   ],
   "source": [
    "from Vector_Utils import *\n",
    "import re"
   ]
  },
  {
   "cell_type": "code",
   "execution_count": 2,
   "id": "48835bae",
   "metadata": {},
   "outputs": [],
   "source": [
    "prompt = \"methane from fracking in the US alone guarantees existential warming\"\n",
    "document = Document(\"article.docx\")\n",
    "full_text = \"\\n\".join([para.text for para in document.paragraphs])"
   ]
  },
  {
   "cell_type": "code",
   "execution_count": 3,
   "id": "ccdb7378",
   "metadata": {},
   "outputs": [],
   "source": [
    "prompt = llmd_prompt(prompt, full_text)"
   ]
  },
  {
   "cell_type": "code",
   "execution_count": 4,
   "id": "c93ba8e5",
   "metadata": {},
   "outputs": [
    {
     "name": "stdout",
     "output_type": "stream",
     "text": [
      "Prompt: US fracking boom's methane emissions threaten global climate stability, undermining clean energy efforts.\n"
     ]
    }
   ],
   "source": [
    "print(\"Prompt:\", prompt)\n",
    "emphasis_words = prompt.split()"
   ]
  },
  {
   "cell_type": "code",
   "execution_count": 5,
   "id": "573beb33",
   "metadata": {},
   "outputs": [],
   "source": [
    "vectorizer = vectorizer()\n",
    "prompt_vec = vectorizer.encode(prompt)"
   ]
  },
  {
   "cell_type": "code",
   "execution_count": 7,
   "id": "8286de4d",
   "metadata": {},
   "outputs": [
    {
     "name": "stdout",
     "output_type": "stream",
     "text": [
      "0.7508429288864136\n",
      "['After a frightening study from last week showed that industrial methane emissions have been \"vastly underestimated,', '\" a new projection Friday that the United States is on track to become', 'the world\\'s leading exporter of liquefied natural gas within five years provoked warnings that the American fracking boom could \"end hope for climate stability.[SPLIT]\"']\n",
      "output:\n",
      "0.7734031081199646 ('After a frightening study from last week showed that industrial methane emissions have been \"vastly underestimated,', 'the world\\'s leading exporter of liquefied natural gas within five years provoked warnings that the American fracking boom could \"end hope for climate stability.', '\"')\n",
      "0.6196070313453674\n",
      "SPLIT\n",
      "0\n",
      "Liquefied natural gas (LNG) is primarily composed of methane, a greenhouse gas that is 84 times more potent than carbon dioxide over a 20-year period. Methane emissions, by some estimates, are responsible for about a quarter of human-caused global warming. \"Science confirms that gas is a climate killer,\" Wenonah Hauter, executive director of the U.S.\n",
      "['Liquefied natural gas[SPLIT]LNG', 'is primarily composed of methane,', 'a greenhouse gas that is', '84 times more potent than carbon dioxide over a 20-year period.[SPLIT]Methane emissions,[SPLIT]by some estimates,', 'are responsible for about a quarter of human-caused global warming.', '\"Science confirms that gas is a climate killer,[SPLIT]\" Wenonah Hauter,', 'executive director of the U.S.']\n",
      "3\n",
      "advocacy group Food & Water Watch, said in a statement Friday, citing methane's planet-warming potential. \n",
      "['advocacy group Food &[SPLIT]Water Watch[SPLIT],', 'said in a statement Friday,', \"citing methane's planet-warming potential.\"]\n",
      "output:\n",
      "0.4 ('is primarily composed of methane,', 'are responsible for about a quarter of human-caused global warming.', \"citing methane's planet-warming potential.\")\n",
      "0.2816794216632843\n",
      "0.41078704595565796\n",
      "SPLIT\n",
      "0\n",
      "While the IEA report attributes much of the increased demand to a growing number of natural gas power plants in the United States and China, it also points to other factors. U.S. News & World Report outlined the agency's findings:  The industrial sector...\n",
      "['While', 'the IEA report attributes much of the increased demand to a growing number of natural gas power plants in the United States and[SPLIT]China[SPLIT],', 'it also points to other factors.[SPLIT]U.S. News &[SPLIT]World Report', \"outlined the agency's findings:[SPLIT]The industrial sector...\"]\n",
      "3\n",
      "also played an outsized role in 2018, with factories, fabricators, and other facilities using gas as both a fuel source and a feedstock to make plastics, fertilizers, and other products—putting industry on track to account for nearly half of global gas consumption by 2024. \n",
      "['also played an outsized role in 2018,[SPLIT]with factories,[SPLIT]fabricators[SPLIT],[SPLIT]and[SPLIT]other facilities', 'using gas as both a fuel source and[SPLIT]a feedstock[SPLIT]to make[SPLIT]plastics,[SPLIT]fertilizers[SPLIT],[SPLIT]and[SPLIT]other products', '—putting industry on track to account', 'for nearly half of global gas consumption by 2024.']\n",
      "output:\n",
      "0.4 ('for nearly half of global gas consumption by 2024.',)\n",
      "0.47423845529556274\n",
      "SPLIT\n",
      "0\n",
      "The U.S., meanwhile, saw the biggest jump in production last year since 1951, with output soaring by 11.5 percent. That made the U.S. the biggest contributor to gas production growth around the world.\n",
      "['The U.S.,[SPLIT]meanwhile,', 'saw the biggest jump in production last year since 1951,', 'with output soaring by 11.5 percent.', 'That made the U.S. the biggest contributor to gas production growth around the world.']\n",
      "3\n",
      "IEA executive director Fatih Birol said in a statement announcing the agency's report that \"natural gas can contribute to a cleaner global energy system. But it faces its own challenges, including remaining price competitive in emerging markets and reducing methane emissions along the natural gas supply chain.\" \n",
      "['IEA executive director Fatih Birol said in a statement announcing the agency\\'s report that \"natural gas can contribute to a cleaner global energy system.[SPLIT]But', 'it faces its own challenges,', 'including remaining price competitive in emerging markets and[SPLIT]reducing', 'methane emissions along the natural gas supply chain.[SPLIT]\"']\n",
      "output:\n",
      "0.4 ('That made the U.S. the biggest contributor to gas production growth around the world.', 'methane emissions along the natural gas supply chain.', '\"')\n",
      "0.4433847963809967\n",
      "['Farhana Yamin,', 'a climate attorney and[SPLIT]coordinator', 'at the Extinction Rebellion,[SPLIT]toldAgence France-Presse[SPLIT],', '\"Given that this polluting fuel can never be \\'clean\\' and[SPLIT]is', 'a key driver of climate chaos,', 'the assertion that it can be part of the path to cleaner energy is highly misleading.[SPLIT]\"  Lorne Stockman,', 'senior research analyst at Oil Change International,', 'also criticized the agency\\'s position on natural gas.[SPLIT]\"When it comes[SPLIT]to gas,', 'the IEA horse has blinkers on and[SPLIT]is heading', 'straight over the cliff of climate disaster,', '\" he told AFP.', '\"Gas is not clean,[SPLIT]cheap[SPLIT],[SPLIT]or[SPLIT]necessary[SPLIT].[SPLIT]\"']\n",
      "output:\n",
      "0.5816714763641357 ('\"Given that this polluting fuel can never be \\'clean\\' and', 'is', 'a key driver of climate chaos,', 'senior research analyst at Oil Change International,', \"also criticized the agency's position on natural gas.\", '\"When it comes', 'to gas,', 'straight over the cliff of climate disaster,')\n",
      "0.4218258261680603\n",
      "[\"Food &[SPLIT]Water Watch[SPLIT]'s Hauter said,\", '\"The IEA\\'s cheerleading of fracked natural gas as some type of global climate solution is foolish and[SPLIT]false[SPLIT].', '\" \"The time has come to end the madness by ending artificial economic support for the fossil fuel industry,[SPLIT]and[SPLIT]investing', 'aggressively in truly clean,', 'renewable energy sources like wind and[SPLIT]solar[SPLIT],[SPLIT]\" she added.', '\"The future of our planet depends on it.[SPLIT]\"']\n",
      "output:\n",
      "0.525826632976532 ('\"The IEA\\'s cheerleading of fracked natural gas as some type of global climate solution is foolish and', 'false', '.', '\" \"The time has come to end the madness by ending artificial economic support for the fossil fuel industry,', 'and', 'investing', '\"The future of our planet depends on it.', '\"')\n",
      "0\n"
     ]
    }
   ],
   "source": [
    "paragraphs = document.paragraphs\n",
    "sentence_enders = re.compile(r'(?<=[.!?])\\s+')\n",
    "para_split = 3\n",
    "emphasis_sensitivity = 0.7\n",
    "underline_proportion = 0.8\n",
    "pruning_threshold = 0.2\n",
    "\n",
    "for paragraph in paragraphs:\n",
    "    highest = 0.4\n",
    "    best = ()\n",
    "\n",
    "    sentences = re.split(sentence_enders, paragraph.text)\n",
    "\n",
    "    if not vectorizer.screen_paragraph(sentences, prompt_vec, threshold=0.4):\n",
    "        make_small(paragraph)\n",
    "        continue\n",
    "\n",
    "    if len(sentences) > para_split:\n",
    "        print(\"SPLIT\")\n",
    "        for i in range((len(sentences) // para_split) + 1):\n",
    "            k = i * para_split\n",
    "            print(k)\n",
    "            if k + para_split <= len(sentences):\n",
    "                sub_paragraph = \" \".join(sentences[k:k+para_split])\n",
    "            else:\n",
    "                sub_paragraph = \" \".join(sentences[k:])\n",
    "            print(sub_paragraph)\n",
    "            # if not vectorizer.screen_paragraph(sub_paragraph, prompt_vec, threshold=0.4):\n",
    "            #     continue\n",
    "            sub_highest = 0.4\n",
    "            sub_best = ()\n",
    "            clauses = clause_separator(sub_paragraph)\n",
    "            print(clauses)\n",
    "            for combination in greedy_combinations(clauses, round(len(clauses) * underline_proportion), vectorizer, prompt_vec, threshold=pruning_threshold):\n",
    "                joined = \" \".join(combination)\n",
    "                joined = joined.replace(\"[SPLIT]\", \" \")\n",
    "                vector = vectorizer.encode(joined)\n",
    "                sim_score = vectorizer.similarity(vector, prompt_vec)\n",
    "                if sim_score > sub_highest:\n",
    "                    sub_highest = sim_score\n",
    "                    combination = (clause.split(\"[SPLIT]\") for clause in combination)\n",
    "                    combination = (i for sub in combination for i in sub)\n",
    "                    combination = tuple(combination)\n",
    "                    sub_best = combination\n",
    "            best += sub_best\n",
    "    else:\n",
    "        clauses = clause_separator(paragraph.text)\n",
    "        print(clauses)\n",
    "        for combination in greedy_combinations(clauses, round(len(clauses) * underline_proportion), vectorizer, prompt_vec, threshold=pruning_threshold):\n",
    "            joined = \" \".join(combination)\n",
    "            joined = joined.replace(\"[SPLIT]\", \" \")\n",
    "            vector = vectorizer.encode(joined)\n",
    "            sim_score = vectorizer.similarity(vector, prompt_vec)\n",
    "            if sim_score > highest:\n",
    "                highest = sim_score\n",
    "                combination = (clause.split(\"[SPLIT]\") for clause in combination)\n",
    "                combination = (i for sub in combination for i in sub)\n",
    "                combination = tuple(combination)\n",
    "                best = combination\n",
    "    \n",
    "    emphasis = [clause for clause in best if vectorizer.similarity(vectorizer.encode(clause), prompt_vec) > emphasis_sensitivity]\n",
    "    print(\"output:\")\n",
    "    print(highest, best)\n",
    "    underline_best_match_in_paragraph(paragraph, best, emphasis)\n",
    "\n",
    "document.save(\"article_annotated.docx\")"
   ]
  }
 ],
 "metadata": {
  "kernelspec": {
   "display_name": "Python 3",
   "language": "python",
   "name": "python3"
  },
  "language_info": {
   "codemirror_mode": {
    "name": "ipython",
    "version": 3
   },
   "file_extension": ".py",
   "mimetype": "text/x-python",
   "name": "python",
   "nbconvert_exporter": "python",
   "pygments_lexer": "ipython3",
   "version": "3.12.10"
  }
 },
 "nbformat": 4,
 "nbformat_minor": 5
}
