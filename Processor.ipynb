{
 "cells": [
  {
   "cell_type": "code",
   "execution_count": 1,
   "id": "8d54d89d",
   "metadata": {},
   "outputs": [
    {
     "name": "stdout",
     "output_type": "stream",
     "text": [
      "\u001b[38;5;2m✔ Download and installation successful\u001b[0m\n",
      "You can now load the package via spacy.load('en_core_web_sm')\n",
      "\u001b[38;5;3m⚠ Restart to reload dependencies\u001b[0m\n",
      "If you are in a Jupyter or Colab notebook, you may need to restart Python in\n",
      "order to load all the package's dependencies. You can do this by selecting the\n",
      "'Restart kernel' or 'Restart runtime' option.\n"
     ]
    }
   ],
   "source": [
    "from Vector_Utils import *\n",
    "import re"
   ]
  },
  {
   "cell_type": "code",
   "execution_count": 2,
   "id": "48835bae",
   "metadata": {},
   "outputs": [],
   "source": [
    "prompt = \"seismic activity from fracking causes nuclear contamination\"\n",
    "document = Document(\"article.docx\")\n",
    "full_text = \"\\n\".join([para.text for para in document.paragraphs])"
   ]
  },
  {
   "cell_type": "code",
   "execution_count": 3,
   "id": "ccdb7378",
   "metadata": {},
   "outputs": [],
   "source": [
    "prompt = llmd_prompt(prompt, full_text)"
   ]
  },
  {
   "cell_type": "code",
   "execution_count": 4,
   "id": "c93ba8e5",
   "metadata": {},
   "outputs": [
    {
     "name": "stdout",
     "output_type": "stream",
     "text": [
      "Prompt: Fracking near nuclear waste storage site may cause earthquakes, compromising structural integrity and public safety.\n"
     ]
    }
   ],
   "source": [
    "print(\"Prompt:\", prompt)"
   ]
  },
  {
   "cell_type": "code",
   "execution_count": 5,
   "id": "573beb33",
   "metadata": {},
   "outputs": [],
   "source": [
    "vectorizer = vectorizer()\n",
    "prompt_vec = vectorizer.encode(prompt)"
   ]
  },
  {
   "cell_type": "code",
   "execution_count": null,
   "id": "8286de4d",
   "metadata": {},
   "outputs": [
    {
     "name": "stdout",
     "output_type": "stream",
     "text": [
      "0.5 \n",
      "0.5 \n",
      "0.5 \n",
      "0.5 \n",
      "0.5160139799118042 ('But at the moment there are several ongoing critical problems at the site which has been closed', 'and unable', 'to accept shipments of radioactive waste ever since a fire and radiation', 'the radiation leak now pose an “ imminent ” or “ substantial ” threat', 'to public health and the environment', '.')\n",
      "0.5949050784111023 ('Yet these problems could pale in comparison to what might happen at the site if an earthquake were to strike or if the protective salt layer were compromised by nearby drilling for oil and gas', ',commonlyknownasfracking.')\n",
      "0.5743852853775024 ('Fracking is a technique used in obtaining gas and petroleum', 'with sand and toxic', 'smallfractures.')\n",
      "0.582172691822052 ('Thus one would logically deduce that fracking should never be done anywhere near WIPP However it is being done there and experts expect it to increase',)\n",
      "0.5870439410209656 ('“ In the last three years a dozen fracking wells have become operational within five miles of the site WIPP ” Don Hancock the director of the Nuclear Waste Safety Program at Southwest Research and Information',)\n",
      "0.9019686579704285 ('Given that it is already well known that fracking causes', 'earthquakes it is clear that the nuclear waste storage site is now in danger of having its structural integrity compromised')\n",
      "0.6427404880523682 ('“ These are the major concerns ” Hancock warned “ There is clearly a possibility that the deep fracking can affect the stability but even more likely is fracking liquids nearing', 'the waste beds – which would be', 'averybadthing.”')\n",
      "0.5 \n",
      "0.5 \n",
      "0.5 \n",
      "0.5132738351821899 ('and fracking', 'permission to go under the WIPP boundary to target')\n",
      "0.6908156871795654 ('like this there could be big problems … There was a 5.2 earthquake in West Texas from fracking and that ’s a big concern given the sensitivity of the WIPP site and what the possible consequences could be',)\n",
      "0.5 \n",
      "0.5 \n",
      "0.5 \n",
      "0.5108186602592468 ('“ We became concerned because inadvertently drilling through nuclear waste containers on your way to find',)\n",
      "0.5595136284828186 ('Since the federal government “ does n’t really control fracking ” according to Hancock – and since most of the land around the site is controlled by the Bureau of Land Management and the state', 'and anti', 'environment')\n",
      "0.5291807055473328 ('“ Those government agencies federal and state', 'none of them have fracking restrictions because the goal is', 'to maximize mineral production because that is')\n",
      "0.5 \n",
      "0.795598030090332 ('In addition to the eventuality of fracking causing earthquakes that could damage', 'wasteemplacement.”')\n",
      "0.7343990206718445 ('with fracking creates groundwater seepage that can compromise', 'the integrity of the site by allowing water into the area where the nuclear waste containers are stored')\n",
      "0.5 \n",
      "0.5 \n",
      "0.5 \n",
      "0.5151423811912537 ('so that burying the waste there means', 'the site will resist', 'the dispersal of nuclear waste for thousands of years Judson warned “ Anything allowing water migration or canister corrosion')\n",
      "0.5 \n",
      "0.6065081357955933 ('State and federal', 'authorities who ’ve', 'drilling along with fracking close to WIPP say they do n’t believe any of these activities will be', 'a problem because the oil and gas', 'justover2,000feetdeepatitsdeepestpoint.')\n",
      "0.5 \n",
      "0.8128361701965332 ('“ Fracking causes earthquakes and other kinds', 'of fracturing and it ’s', 'problems at two thousand one hundred feet or close', 'difficulties at the level where the waste is', ',”hesaid.')\n",
      "0.6486531496047974 ('Hancock believes that fracking near the site could cause a release from the underground containment area itself which could have', 'effects This is what we witnessed in February by way of a small radiation release that shut', 'the site down for nearly four months and will likely keep it closed', '.')\n",
      "0.5964972972869873 ('Hancock issued a dire warning about the consequences of fracking near the site “ It fracking is potentially a shutting down the facility kind of thing and worst case scenario', 'that could cause', 'catastrophic injuries to workers and a massive external radiation release', 'anextremelyseriousproblem.”')\n",
      "0.5 \n",
      "0.5 \n"
     ]
    }
   ],
   "source": [
    "paragraphs = document.paragraphs\n",
    "# sentence_enders = re.compile(r'(?<=[.!?])\\s+')\n",
    "\n",
    "for paragraph in paragraphs:\n",
    "    highest = 0.5\n",
    "    best = \"\"\n",
    "    clauses = clause_separator(paragraph.text)\n",
    "    for combination in ordered_combinations(clauses, round(len(clauses) * 0.8)):\n",
    "        joined = \" \".join(combination)\n",
    "        vector = vectorizer.encode(joined)\n",
    "        if vectorizer.similarity(vector, prompt_vec) > highest:\n",
    "            highest = vectorizer.similarity(vector, prompt_vec)\n",
    "            best = combination\n",
    "\n",
    "    print(highest, best)\n",
    "    underline_best_match_in_paragraph(paragraph, best)\n",
    "\n",
    "document.save(\"article_annotated.docx\")"
   ]
  }
 ],
 "metadata": {
  "kernelspec": {
   "display_name": "Python 3",
   "language": "python",
   "name": "python3"
  },
  "language_info": {
   "codemirror_mode": {
    "name": "ipython",
    "version": 3
   },
   "file_extension": ".py",
   "mimetype": "text/x-python",
   "name": "python",
   "nbconvert_exporter": "python",
   "pygments_lexer": "ipython3",
   "version": "3.12.10"
  }
 },
 "nbformat": 4,
 "nbformat_minor": 5
}
