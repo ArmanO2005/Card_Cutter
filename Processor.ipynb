{
 "cells": [
  {
   "cell_type": "code",
   "execution_count": 7,
   "id": "8d54d89d",
   "metadata": {},
   "outputs": [],
   "source": [
    "from Vector_Utils import *\n",
    "import re"
   ]
  },
  {
   "cell_type": "code",
   "execution_count": 8,
   "id": "48835bae",
   "metadata": {},
   "outputs": [],
   "source": [
    "prompt = \"Methane from fracking alone gaurantees existential global warming\"\n",
    "document = Document(\"article.docx\")\n",
    "full_text = \"\\n\".join([para.text for para in document.paragraphs])"
   ]
  },
  {
   "cell_type": "code",
   "execution_count": 9,
   "id": "ccdb7378",
   "metadata": {},
   "outputs": [],
   "source": [
    "prompt = llmd_prompt(prompt, full_text)"
   ]
  },
  {
   "cell_type": "code",
   "execution_count": 10,
   "id": "c93ba8e5",
   "metadata": {},
   "outputs": [
    {
     "name": "stdout",
     "output_type": "stream",
     "text": [
      "Prompt: US fracking boom and methane emissions threaten global climate stability.\n"
     ]
    }
   ],
   "source": [
    "print(\"Prompt:\", prompt)\n",
    "emphasis_words = prompt.split()"
   ]
  },
  {
   "cell_type": "code",
   "execution_count": 11,
   "id": "573beb33",
   "metadata": {},
   "outputs": [],
   "source": [
    "vectorizer = vectorizer()\n",
    "prompt_vec = vectorizer.encode(prompt)"
   ]
  },
  {
   "cell_type": "code",
   "execution_count": null,
   "id": "8286de4d",
   "metadata": {},
   "outputs": [
    {
     "name": "stdout",
     "output_type": "stream",
     "text": [
      "0.748071014881134\n",
      "0.7562731504440308 ('the world\\'s leading exporter of liquefied natural gas within five years provoked warnings that the American fracking boom could \"end hope for climate stability.\"',)\n",
      "0.6061127185821533\n",
      "SPLIT\n",
      "('84 times more potent than carbon dioxide over a 20-year period. Methane emissions, by some estimates, are responsible for about a quarter of human-caused global warming. \"Science confirms that gas is a climate killer,\" Wenonah Hauter, executive director of the U.S.',)\n",
      "(\", said in a statement Friday, citing methane's planet-warming potential.\",)\n",
      "0.5 ('84 times more potent than carbon dioxide over a 20-year period. Methane emissions, by some estimates, are responsible for about a quarter of human-caused global warming. \"Science confirms that gas is a climate killer,\" Wenonah Hauter, executive director of the U.S.', \", said in a statement Friday, citing methane's planet-warming potential.\")\n",
      "0.27010345458984375\n",
      "0.4031077027320862\n",
      "SPLIT\n",
      "0.5 ()\n",
      "0.45001542568206787\n",
      "SPLIT\n",
      "('methane emissions along the natural gas supply chain.\"',)\n",
      "0.5 ('methane emissions along the natural gas supply chain.\"',)\n",
      "0.3696281313896179\n",
      "0.36283940076828003\n",
      "0\n"
     ]
    }
   ],
   "source": [
    "paragraphs = document.paragraphs\n",
    "sentence_enders = re.compile(r'(?<=[.!?])\\s+')\n",
    "\n",
    "for paragraph in paragraphs:\n",
    "    highest = 0.4\n",
    "    best = ()\n",
    "\n",
    "    sentences = re.split(sentence_enders, paragraph.text)\n",
    "\n",
    "    if not vectorizer.screen_paragraph(sentences, prompt_vec, threshold=0.4):\n",
    "        make_small(paragraph)\n",
    "        continue\n",
    "\n",
    "    if len(sentences) > 3:\n",
    "        print(\"SPLIT\")\n",
    "        for i in range((len(sentences) // 3) + 1):\n",
    "            k = i * 3\n",
    "            if k + 3 < len(sentences):\n",
    "                sub_paragraph = \" \".join(sentences[k:k+3])\n",
    "            else:\n",
    "                sub_paragraph = \" \".join(sentences[k:])\n",
    "            sub_highest = 0.4\n",
    "            sub_best = ()\n",
    "            clauses = clause_separator(sub_paragraph)\n",
    "            for combination in ordered_combinations(clauses, round(len(clauses) * 0.8)):\n",
    "                joined = \" \".join(combination)\n",
    "                vector = vectorizer.encode(joined)\n",
    "                sim_score = vectorizer.similarity(vector, prompt_vec)\n",
    "                if sim_score > sub_highest:\n",
    "                    sub_highest = sim_score\n",
    "                    sub_best = combination\n",
    "                    best += sub_best\n",
    "                    print(sub_best)\n",
    "    else:\n",
    "        clauses = clause_separator(paragraph.text)\n",
    "        for combination in ordered_combinations(clauses, round(len(clauses) * 0.8)):\n",
    "            joined = \" \".join(combination)\n",
    "            vector = vectorizer.encode(joined)\n",
    "            sim_score = vectorizer.similarity(vector, prompt_vec)\n",
    "            if sim_score > highest:\n",
    "                highest = sim_score\n",
    "                best = combination\n",
    "\n",
    "    print(highest, best)\n",
    "    underline_best_match_in_paragraph(paragraph, best, emphasis_words)\n",
    "\n",
    "document.save(\"article_annotated.docx\")"
   ]
  }
 ],
 "metadata": {
  "kernelspec": {
   "display_name": "Python 3",
   "language": "python",
   "name": "python3"
  },
  "language_info": {
   "codemirror_mode": {
    "name": "ipython",
    "version": 3
   },
   "file_extension": ".py",
   "mimetype": "text/x-python",
   "name": "python",
   "nbconvert_exporter": "python",
   "pygments_lexer": "ipython3",
   "version": "3.12.10"
  }
 },
 "nbformat": 4,
 "nbformat_minor": 5
}
