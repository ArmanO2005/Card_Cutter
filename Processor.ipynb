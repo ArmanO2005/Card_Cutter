{
 "cells": [
  {
   "cell_type": "code",
   "execution_count": 1,
   "id": "8d54d89d",
   "metadata": {},
   "outputs": [
    {
     "name": "stdout",
     "output_type": "stream",
     "text": [
      "\u001b[38;5;2m✔ Download and installation successful\u001b[0m\n",
      "You can now load the package via spacy.load('en_core_web_sm')\n",
      "\u001b[38;5;3m⚠ Restart to reload dependencies\u001b[0m\n",
      "If you are in a Jupyter or Colab notebook, you may need to restart Python in\n",
      "order to load all the package's dependencies. You can do this by selecting the\n",
      "'Restart kernel' or 'Restart runtime' option.\n"
     ]
    }
   ],
   "source": [
    "from Vector_Utils import *\n",
    "import re"
   ]
  },
  {
   "cell_type": "code",
   "execution_count": 2,
   "id": "48835bae",
   "metadata": {},
   "outputs": [],
   "source": [
    "prompt = \"liberalism causes war\"\n",
    "article = read_docx(\"article.docx\")"
   ]
  },
  {
   "cell_type": "code",
   "execution_count": 3,
   "id": "ccdb7378",
   "metadata": {},
   "outputs": [],
   "source": [
    "prompt = llmd_prompt(prompt, article)"
   ]
  },
  {
   "cell_type": "code",
   "execution_count": 4,
   "id": "c93ba8e5",
   "metadata": {},
   "outputs": [
    {
     "name": "stdout",
     "output_type": "stream",
     "text": [
      "Prompt: Liberalism, weaponized by US, destabilizes countries and incites war.\n"
     ]
    }
   ],
   "source": [
    "print(\"Prompt:\", prompt)"
   ]
  },
  {
   "cell_type": "code",
   "execution_count": 5,
   "id": "573beb33",
   "metadata": {},
   "outputs": [],
   "source": [
    "vectorizer = vectorizer()\n",
    "prompt_vec = vectorizer.encode(prompt)"
   ]
  },
  {
   "cell_type": "code",
   "execution_count": null,
   "id": "8286de4d",
   "metadata": {},
   "outputs": [
    {
     "name": "stdout",
     "output_type": "stream",
     "text": [
      "0.7952848076820374 The list goes on , but whatever the actual causes – historians will one day battle. it out – we can not eliminate the possibility that “ liberalism ” and “ democracy. ” have a hand in the war . These principles have turned from noble ideas inspiring a system of government that took. root in Western countries and enabled. into a weaponised ideology that the US uses. to destabilise other countries , delegitimise. their governments , and intervene. in drastic ways . None of it has to do with the liberalism , democracy. and freedom\n",
      "0.5064842104911804 not just in war but also in. and elections. fall under the heading of The Great Delusion : Liberal Dreams and International Realities\n",
      "0.1113523542881012 A political science professor at Chicago University since 1982 , Mearsheimer was born on 14 December 1947 , in Brooklyn , New York , which is\n",
      "0.4999133348464966 US foreign policies , towards the Middle East in particular , in ways that conflict\n",
      "0.652446448802948 pose a great challenge to liberalism , or the “ great delusion. it , with his assertion that the liberal hegemony project that US foreign policy has embraced. since the end of the Cold War has been a recipe for unmitigated disaster . He draws attention to two basic liberal assumptions related to human nature : firstly , that the individual takes precedence over the group and , secondly , that individuals are unable to attain a general consensus on first principles ; passionate differences over those often lead to violence . Liberalism ’s solutions to such potential violence is threefold : inalienable human rights for the individual , an emphasis on tolerance despite disagreement , and a state. to maintain. order when disputes turn. others ’ rights . Such traits make liberalism a universalist theory which can turn. liberal democracies into crusading states .\n"
     ]
    }
   ],
   "source": [
    "paragraphs = article.split(\"\\n\")\n",
    "# sentence_enders = re.compile(r'(?<=[.!?])\\s+')\n",
    "\n",
    "for paragraph in paragraphs:\n",
    "    highest = 0.5\n",
    "    best = ''\n",
    "    clauses = clause_seperator(paragraph)\n",
    "    for combination in ordered_combinations(clauses, round(len(clauses) / 2)):\n",
    "        combination = \". \".join(combination)\n",
    "        vector = vectorizer.encode(combination)\n",
    "        if vectorizer.similarity(vector, prompt_vec) > highest:\n",
    "            highest = vectorizer.similarity(vector, prompt_vec)\n",
    "            best = combination\n",
    "\n",
    "    print(highest, best)"
   ]
  }
 ],
 "metadata": {
  "kernelspec": {
   "display_name": "Python 3",
   "language": "python",
   "name": "python3"
  },
  "language_info": {
   "codemirror_mode": {
    "name": "ipython",
    "version": 3
   },
   "file_extension": ".py",
   "mimetype": "text/x-python",
   "name": "python",
   "nbconvert_exporter": "python",
   "pygments_lexer": "ipython3",
   "version": "3.12.10"
  }
 },
 "nbformat": 4,
 "nbformat_minor": 5
}
