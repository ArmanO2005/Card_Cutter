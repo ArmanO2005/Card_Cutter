{
 "cells": [
  {
   "cell_type": "code",
   "execution_count": 7,
   "id": "8d54d89d",
   "metadata": {},
   "outputs": [],
   "source": [
    "from Vector_Utils import *\n",
    "import re"
   ]
  },
  {
   "cell_type": "code",
   "execution_count": 8,
   "id": "48835bae",
   "metadata": {},
   "outputs": [],
   "source": [
    "prompt = \"seismic activity from fracking causes nuclear contamination\"\n",
    "article = read_docx(\"article.docx\")"
   ]
  },
  {
   "cell_type": "code",
   "execution_count": 9,
   "id": "ccdb7378",
   "metadata": {},
   "outputs": [],
   "source": [
    "prompt = llmd_prompt(prompt, article)"
   ]
  },
  {
   "cell_type": "code",
   "execution_count": 10,
   "id": "c93ba8e5",
   "metadata": {},
   "outputs": [
    {
     "name": "stdout",
     "output_type": "stream",
     "text": [
      "Prompt: Fracking near nuclear waste storage site threatens its structural integrity, risking nuclear contamination.\n"
     ]
    }
   ],
   "source": [
    "print(\"Prompt:\", prompt)"
   ]
  },
  {
   "cell_type": "code",
   "execution_count": 11,
   "id": "573beb33",
   "metadata": {},
   "outputs": [],
   "source": [
    "vectorizer = vectorizer()\n",
    "prompt_vec = vectorizer.encode(prompt)"
   ]
  },
  {
   "cell_type": "code",
   "execution_count": 12,
   "id": "8286de4d",
   "metadata": {},
   "outputs": [
    {
     "name": "stdout",
     "output_type": "stream",
     "text": [
      "0.5 \n",
      "0.5391231775283813 concerned about nuclear power , radioactive waste\n",
      "0.5 \n",
      "0.5 \n",
      "0.5240679383277893 But at the moment , there are several ongoing critical problems at the site , which has been closed. to accept shipments of radioactive waste ever since a fire and radiation. the radiation leak , now pose an “ imminent ” or “ substantial ” threat. .\n",
      "0.5146876573562622 , commonly known as fracking .\n",
      "0.5891390442848206 Fracking is a technique used in obtaining gas and petroleum. with sand and toxic. small fractures .\n",
      "0.5830096006393433 Thus , one would logically deduce that fracking should never be done anywhere near WIPP . However , it is being done there , and experts expect it to increase. .\n",
      "0.6280646920204163 “ In the last three years , a dozen fracking wells have become operational within five miles of the site [ WIPP ] , ” Don Hancock , the director of the Nuclear Waste Safety Program at Southwest Research and Information\n",
      "0.8528323769569397 Given that it is already well known that fracking causes. earthquakes , it is clear that the nuclear waste storage site is now in danger of having its structural integrity compromised\n",
      "0.6565666794776917 “ These are the major concerns , ” Hancock warned . “ There is clearly a possibility that the deep fracking can affect the stability , but even more likely is fracking liquids nearing. or entering. the waste beds – which would be\n",
      "0.5 \n",
      "0.5 \n",
      "0.5 \n",
      "0.5106918215751648 and fracking. permission to go under the [ WIPP ] boundary to target\n",
      "0.5614076256752014 According to the employee , “ The fracking fluids they are injecting. are very unstable , and if it continues. like this there could be big problems … . There was a 5.2 [ earthquake ] in West Texas from fracking , and that ’s a big concern given the sensitivity of the WIPP site and what the possible consequences could be\n",
      "0.5 \n",
      "0.5 \n",
      "0.5 \n",
      "0.5373639464378357 “ We became concerned , because inadvertently drilling through nuclear waste containers on your way to find\n",
      "0.5449703931808472 Since the federal government “ does n’t really control fracking ” according to Hancock – and since most of the land around the site is controlled by the Bureau of Land Management and the state. -. environment\n",
      "0.5534215569496155 “ Those government agencies , federal and state. , none of them have fracking restrictions , because the goal is. to maximize mineral production because that is. the law and it generates\n",
      "0.5 \n",
      "0.6527604460716248 In addition to the eventuality of fracking causing earthquakes that could damage. the natural salt container around the waste , Hancock also warned , “ There is some likelihood of fracking fluids penetrating areas at or near\n",
      "0.8023571968078613 with fracking creates groundwater seepage that can compromise. the integrity of the site , by allowing water into the area where the nuclear waste containers are stored. .\n",
      "0.5 \n",
      "0.5 \n",
      "0.5 \n",
      "0.6168138384819031 so that burying the waste there means. the site will resist. the dispersal of nuclear waste for thousands of years , Judson warned , “ Anything allowing water migration or canister corrosion. can compromise the stability of the site itself . ”\n",
      "0.5 \n",
      "0.5570747256278992 authorities who ’ve. drilling , along with fracking close to WIPP , say they do n’t believe any of these activities will be. a problem , because the oil and gas. just over 2,000 feet deep at its deepest point .\n",
      "0.5 \n",
      "0.7070732712745667 “ Fracking causes earthquakes and other kinds. of fracturing , and it ’s. difficulties at the level where the waste is\n",
      "0.5668638944625854 Hancock believes that fracking near the site could cause a release from the underground containment area itself , which could have. effects . This is what we witnessed in February , by way of a small radiation release that shut. .\n",
      "0.5951461791992188 Hancock issued a dire warning about the consequences of fracking near the site : “ It [ fracking ] is potentially a shutting - down - the - facility kind of thing , and worst case scenario. catastrophic injuries to workers and a massive external [ radiation ] release\n",
      "0.5 \n",
      "0.5 \n"
     ]
    }
   ],
   "source": [
    "paragraphs = article.split(\"\\n\")\n",
    "# sentence_enders = re.compile(r'(?<=[.!?])\\s+')\n",
    "\n",
    "for paragraph in paragraphs:\n",
    "    highest = 0.5\n",
    "    best = ''\n",
    "    clauses = clause_seperator(paragraph)\n",
    "    for combination in ordered_combinations(clauses, round(len(clauses) * 0.8)):\n",
    "        combination = \". \".join(combination)\n",
    "        vector = vectorizer.encode(combination)\n",
    "        if vectorizer.similarity(vector, prompt_vec) > highest:\n",
    "            highest = vectorizer.similarity(vector, prompt_vec)\n",
    "            best = combination\n",
    "\n",
    "    print(highest, best)"
   ]
  }
 ],
 "metadata": {
  "kernelspec": {
   "display_name": "Python 3",
   "language": "python",
   "name": "python3"
  },
  "language_info": {
   "codemirror_mode": {
    "name": "ipython",
    "version": 3
   },
   "file_extension": ".py",
   "mimetype": "text/x-python",
   "name": "python",
   "nbconvert_exporter": "python",
   "pygments_lexer": "ipython3",
   "version": "3.12.10"
  }
 },
 "nbformat": 4,
 "nbformat_minor": 5
}
