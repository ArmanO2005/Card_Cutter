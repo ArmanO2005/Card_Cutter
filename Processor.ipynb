{
 "cells": [
  {
   "cell_type": "code",
   "execution_count": 8,
   "id": "8d54d89d",
   "metadata": {},
   "outputs": [],
   "source": [
    "from Vector_Utils import *\n",
    "import re"
   ]
  },
  {
   "cell_type": "code",
   "execution_count": null,
   "id": "48835bae",
   "metadata": {},
   "outputs": [],
   "source": [
    "prompt = \"Global warming causes extinction\"\n",
    "document = Document(\"article.docx\")\n",
    "full_text = \"\\n\".join([para.text for para in document.paragraphs])"
   ]
  },
  {
   "cell_type": "code",
   "execution_count": 10,
   "id": "ccdb7378",
   "metadata": {},
   "outputs": [],
   "source": [
    "prompt = llmd_prompt(prompt, full_text)"
   ]
  },
  {
   "cell_type": "code",
   "execution_count": 11,
   "id": "c93ba8e5",
   "metadata": {},
   "outputs": [
    {
     "name": "stdout",
     "output_type": "stream",
     "text": [
      "Prompt: Global warming disrupts phytoplankton oxygen production, thaws permafrost releasing deadly diseases, triggers earthquakes, reduces cognitive ability, threatens food supply, and increases sea levels.\n"
     ]
    }
   ],
   "source": [
    "print(\"Prompt:\", prompt)\n",
    "emphasis_words = prompt.split()"
   ]
  },
  {
   "cell_type": "code",
   "execution_count": 12,
   "id": "573beb33",
   "metadata": {},
   "outputs": [],
   "source": [
    "vectorizer = vectorizer()\n",
    "prompt_vec = vectorizer.encode(prompt)"
   ]
  },
  {
   "cell_type": "code",
   "execution_count": 19,
   "id": "8286de4d",
   "metadata": {},
   "outputs": [
    {
     "name": "stdout",
     "output_type": "stream",
     "text": [
      "0.1320258378982544\n",
      "0.6043288707733154\n",
      "0.6264033913612366 ('warming, by 2100 they might become hot enough to “stop oxygen production by phyto-plankton by disrupting the process of photosynthesis.” Given that two-thirds of the Earth’s oxygen comes from phytoplankton, that would “likely result in the mass mortality of animals and humans', '.”')\n",
      "0.4421282112598419\n",
      "SPLIT\n",
      "0.4 ('A year later, above the Arctic Circle, in Siberia, a heat wave thawed a reindeer carcass that had been trapped', 'out, permafrost is', 'a “very good preserver of microbes and viruses', ', because it is', 'cold, there is no oxygen, and it is')\n",
      "0.4406704902648926\n",
      "SPLIT\n",
      "0.4 ('this: as ice sheets melt', ', they take weight off land, and that can trigger', 'earthquakes — seismic activity is already increasing in Greenland and Alaska', '. Meanwhile, the added weight of the new seawater starts to bend the Earth’s crust. “That will give you a massive increase in volcanic activity.', 'It’ll activate faults to create', 'earthquakes, submarine landslides', 'way, “plummeting', 'all signs of life from coastal Norway to Greenland and “drowning', 'the Wales-sized landmass that once connected')\n",
      "0.35953134298324585\n",
      "0.40854310989379883\n",
      "SPLIT\n",
      "0.4 ('something as fundamental as the composition of the atmosphere, and hence the heat balance', 'ahead may be the most frightening development of all; the physical world is going from backdrop to foreground.')\n",
      "0.3620043992996216\n",
      "0.3778795897960663\n",
      "0.3306017220020294\n",
      "0.2926340401172638\n",
      "0.2896609604358673\n",
      "0.42249631881713867\n",
      "SPLIT\n",
      "0.4 ('plenty of food, the transportation system that distributes', 'it runs', 'vulnerable to — you guessed it — massive disruption from climate change. For instance, U.S. rivers and canals', 'by flooding and drought', 'in recent years.')\n",
      "0.38797706365585327\n",
      "0.39502081274986267\n",
      "0.200786754488945\n",
      "0.40500524640083313\n",
      "SPLIT\n",
      "0.4 ('about sea level rise. The United Nations’ Intergovernmental Panel on Climate Change (IPCC) predicted in 2003 that sea level should rise', 'because warm water takes', ', it wouldn’t really interfere with settlement patterns. But even as the IPCC scientists made that estimate, they cautioned that it didn’t take into account the possible melt of the great ice sheets over Greenland and Antarctica')\n",
      "0.37465474009513855\n",
      "0.2840639650821686\n",
      "0.4056110382080078\n",
      "SPLIT\n",
      "0.4 ('with global warming. How is that possible?', 'so high. A team of economists predicted a 12 percent risk that global warming could reduce global economic output by 50 percent by 2100 — that is to say, there’s a one-in-eight chance of something eight times as bad as the Great Recession.')\n",
      "0.4151970446109772\n",
      "SPLIT\n",
      "0.4 ('Pacific Command, explaining why climate change was',)\n",
      "0.27951952815055847\n",
      "0.2767498791217804\n",
      "0.486615389585495\n",
      "0.5500040650367737 ('sea ice” in the Arctic had melted, “opening waters north of Greenland that are normally frozen', 'off a hundred-foot tsunami that killed', 'four people in a remote village: it was, said scientists, precisely the kind of event that will “become', 'more frequent as the climate warms.”')\n",
      "0.3406747281551361\n",
      "0.25526100397109985\n",
      "0.3642004728317261\n",
      "0.3449181318283081\n",
      "0.3626384139060974\n",
      "0.31227919459342957\n",
      "0.11693060398101807\n",
      "0.22059275209903717\n"
     ]
    }
   ],
   "source": [
    "paragraphs = document.paragraphs\n",
    "sentence_enders = re.compile(r'(?<=[.!?])\\s+')\n",
    "\n",
    "for paragraph in paragraphs:\n",
    "    highest = 0.4\n",
    "    best = ()\n",
    "\n",
    "    sentences = re.split(sentence_enders, paragraph.text)\n",
    "\n",
    "    if not vectorizer.screen_paragraph(sentences, prompt_vec, threshold=0.4):\n",
    "        make_small(paragraph)\n",
    "        continue\n",
    "\n",
    "    if len(sentences) > 3:\n",
    "        print(\"SPLIT\")\n",
    "        for i in range((len(sentences) // 3) + 1):\n",
    "            k = i * 3\n",
    "            if k + 3 <= len(sentences):\n",
    "                sub_paragraph = \" \".join(sentences[k:k+3])\n",
    "            else:\n",
    "                sub_paragraph = \" \".join(sentences[k:])\n",
    "            sub_highest = 0.4\n",
    "            sub_best = ()\n",
    "            clauses = clause_separator(sub_paragraph)\n",
    "            for combination in ordered_combinations(clauses, round(len(clauses) * 0.8)):\n",
    "                joined = \" \".join(combination)\n",
    "                vector = vectorizer.encode(joined)\n",
    "                sim_score = vectorizer.similarity(vector, prompt_vec)\n",
    "                if sim_score > sub_highest:\n",
    "                    sub_highest = sim_score\n",
    "                    sub_best = combination\n",
    "            best += sub_best\n",
    "    else:\n",
    "        clauses = clause_separator(paragraph.text)\n",
    "        for combination in ordered_combinations(clauses, round(len(clauses) * 0.8)):\n",
    "            joined = \" \".join(combination)\n",
    "            vector = vectorizer.encode(joined)\n",
    "            sim_score = vectorizer.similarity(vector, prompt_vec)\n",
    "            if sim_score > highest:\n",
    "                highest = sim_score\n",
    "                best = combination\n",
    "\n",
    "    print(highest, best)\n",
    "    underline_best_match_in_paragraph(paragraph, best, emphasis_words)\n",
    "\n",
    "document.save(\"article_annotated.docx\")"
   ]
  }
 ],
 "metadata": {
  "kernelspec": {
   "display_name": "Python 3",
   "language": "python",
   "name": "python3"
  },
  "language_info": {
   "codemirror_mode": {
    "name": "ipython",
    "version": 3
   },
   "file_extension": ".py",
   "mimetype": "text/x-python",
   "name": "python",
   "nbconvert_exporter": "python",
   "pygments_lexer": "ipython3",
   "version": "3.12.10"
  }
 },
 "nbformat": 4,
 "nbformat_minor": 5
}
