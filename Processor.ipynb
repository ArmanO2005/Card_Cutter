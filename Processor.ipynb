{
 "cells": [
  {
   "cell_type": "code",
   "execution_count": 1,
   "id": "8d54d89d",
   "metadata": {},
   "outputs": [
    {
     "name": "stdout",
     "output_type": "stream",
     "text": [
      "\u001b[38;5;2m✔ Download and installation successful\u001b[0m\n",
      "You can now load the package via spacy.load('en_core_web_sm')\n",
      "\u001b[38;5;3m⚠ Restart to reload dependencies\u001b[0m\n",
      "If you are in a Jupyter or Colab notebook, you may need to restart Python in\n",
      "order to load all the package's dependencies. You can do this by selecting the\n",
      "'Restart kernel' or 'Restart runtime' option.\n"
     ]
    }
   ],
   "source": [
    "from Vector_Utils import *\n",
    "import re"
   ]
  },
  {
   "cell_type": "code",
   "execution_count": 2,
   "id": "48835bae",
   "metadata": {},
   "outputs": [],
   "source": [
    "prompt = \"urgent action can mitigate warming and framing it as inevitable guarantees it\"\n",
    "document = Document(\"article.docx\")\n",
    "full_text = \"\\n\".join([para.text for para in document.paragraphs])"
   ]
  },
  {
   "cell_type": "code",
   "execution_count": 3,
   "id": "ccdb7378",
   "metadata": {},
   "outputs": [],
   "source": [
    "prompt = llmd_prompt(prompt, full_text)"
   ]
  },
  {
   "cell_type": "code",
   "execution_count": 4,
   "id": "c93ba8e5",
   "metadata": {},
   "outputs": [
    {
     "name": "stdout",
     "output_type": "stream",
     "text": [
      "Prompt: Climate change defeatism hinders action, but experts insist urgent efforts can still mitigate warming.\n"
     ]
    }
   ],
   "source": [
    "print(\"Prompt:\", prompt)\n",
    "emphasis_words = prompt.split()"
   ]
  },
  {
   "cell_type": "code",
   "execution_count": 5,
   "id": "573beb33",
   "metadata": {},
   "outputs": [],
   "source": [
    "vectorizer = vectorizer()\n",
    "prompt_vec = vectorizer.encode(prompt)"
   ]
  },
  {
   "cell_type": "code",
   "execution_count": 6,
   "id": "8286de4d",
   "metadata": {},
   "outputs": [
    {
     "name": "stdout",
     "output_type": "stream",
     "text": [
      "0.6697385311126709 ('it is', 'too late to reign in climate change “inactivists” and “doomists', '”. In his book “The Climate Wars” Mann says defeatism is the successor to climate denial and he describes', 'it as, “the great obstacle to addressing the crisis.”')\n",
      "0.6155657768249512 ('As explained', 'the climate fight is')\n",
      "0.539425790309906 ('.” and this gives them an excuse to do nothing. Those who believe', 'we can address', 'these challenges are derided as “techno-optimists” by doomers and they are dismissed as being high on “hopium”. Like climate deniers, doomers cherry-pick evidence and ignore', 'contradicting evidence.')\n",
      "0.5 \n",
      "0.5821533203125 ('“To those who say', 'we are already doomed', 'clear: As bad as the warming has been', ', it is only one-tenth of the warming we are', 'capable of causing, which would be', 'a hellishly altered Earth. Yes, there is cause for mourning: By failing to act over the past 30 years, we have caused irreparable harm to our climate. But that is not an excuse for wrecking the climate even further for all generations to come', '.”')\n",
      "0.5495762228965759 ('As reviewed in 2019 by Business Insider, climate experts railed against the inaccuracies of Jonathan Franzen’s ‘climate doomist’ opinion column published in the New Yorker. In an essay titled “What If We Stopped Pretending,” Franzen wrote that the destruction of the planet by human-induced climate change is inevitable and that environmentalists and climate change activists', 'are', ', morally cowardly, and lavishly self-indulgent.”')\n",
      "0.5 \n",
      "0.5 \n",
      "0.5 \n",
      "0.5931137204170227 ('catastrophe. While sensationalism may garner headlines, the defeatist testimonies of the prophets of doom do not stand up to scrutiny.  Ben Piven recently wrote that those who fear', 'it’s too late to change the planet’s future should heed the views of experts who think', 'potentially irreversible climate disruption. By this time we will need to draw down emissions by at least 45 percent compared to 2010 levels. A more precise estimate suggests we have just over 6 years to cut atmospheric emissions in half.')\n",
      "0.6789510846138 ('A notion related to the defeatism of doomers is that it is too expensive to address the climate crisis. This is another ruse. Economists suggest that if we act', 'now we could fix climate change with less than 1 percent of world GDP.  What makes the situation even more urgent')\n",
      "0.7203991413116455 ('pointless. While we cannot stop climate change, we can minimize some of its most serious impacts. Climate action is not an all-or-nothing', 'proposition, we can limit warming through mitigation efforts and minimize adverse consequences through adaptation. However, as explained by the U.N. Secretary-General, Antonio Guterres, we need urgent action to address the climate crisis. Time is of the essence and the sooner we act the better our chances.')\n",
      "0.5 \n"
     ]
    }
   ],
   "source": [
    "paragraphs = document.paragraphs\n",
    "# sentence_enders = re.compile(r'(?<=[.!?])\\s+')\n",
    "\n",
    "for paragraph in paragraphs:\n",
    "    highest = 0.5\n",
    "    best = \"\"\n",
    "    clauses = clause_separator(paragraph.text)\n",
    "    for combination in ordered_combinations(clauses, round(len(clauses) * 0.8)):\n",
    "        joined = \" \".join(combination)\n",
    "        vector = vectorizer.encode(joined)\n",
    "        if vectorizer.similarity(vector, prompt_vec) > highest:\n",
    "            highest = vectorizer.similarity(vector, prompt_vec)\n",
    "            best = combination\n",
    "\n",
    "    print(highest, best)\n",
    "    underline_best_match_in_paragraph(paragraph, best, emphasis_words)\n",
    "\n",
    "document.save(\"article_annotated.docx\")"
   ]
  }
 ],
 "metadata": {
  "kernelspec": {
   "display_name": "Python 3",
   "language": "python",
   "name": "python3"
  },
  "language_info": {
   "codemirror_mode": {
    "name": "ipython",
    "version": 3
   },
   "file_extension": ".py",
   "mimetype": "text/x-python",
   "name": "python",
   "nbconvert_exporter": "python",
   "pygments_lexer": "ipython3",
   "version": "3.12.10"
  }
 },
 "nbformat": 4,
 "nbformat_minor": 5
}
